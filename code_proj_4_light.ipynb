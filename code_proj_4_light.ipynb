{
 "cells": [
  {
   "cell_type": "markdown",
   "metadata": {},
   "source": [
    "# Coding Project: Differentiable NAS\n",
    "\n",
    "* ### Based on the paper:H. Liu, K. Simonyanand Y. Yang, “DARTS: Differentiable Architecture Search,” International Conference on Learning Representations (ICLR),2019\n",
    "\n",
    "* ### Assignment\n",
    "\n",
    "  1. Find a codebase of this paper (the original DARTS implementation is available, and you can find a few variants), download the CIFAR10 and CIFAR100 datasets\n",
    "\n",
    "  **The dataset and codebase have already upload in the OBS of Huawei Cloud Platform, you can use it directly in the ModelArts.**\n",
    "\n",
    "  1. Run the basic code on the server, with the standard configuration of the selected paperon CIFAR10 (take the computational costs into consideration)\n",
    "  \n",
    "  2. Finish the required task and one of the optional tasks (see the following slides) –of course, you can do more than one optional tasks if you wish (bonus points)\n",
    "  3. If you have more ideas, please specify a new task by yourself (bonus points)\n",
    "  4. Remember: integrate your results into your reading report\n",
    "  5. Date assigned: Nov. 19, 2019;    Date Due: Dec 14, 2020\n"
   ]
  },
  {
   "cell_type": "markdown",
   "metadata": {},
   "source": [
    "# Required Task\n",
    "\n",
    "* The basic training and testing pipeline\n",
    "    * Run a complete search process with DARTS or any of its variant on CIFAR10 (PC-DARTS is preferred due to the low costs)\n",
    "    * Note: due to the limitation of computational resource, you may not have sufficient resource to perform the re-training process\n",
    "    * Pay attention to the hyper-parameters (config, epochs, etc.)\n",
    "* Questions that should be answered in the report\n",
    "    * Paste complete training and testing curves and the final architecture\n",
    "    * Report the training and validation accuracy throughout the process\n",
    "    * How is performance changing with the number of iterations?\n",
    "    * Any other significant features that can be recognized in the curves?"
   ]
  },
  {
   "cell_type": "markdown",
   "metadata": {},
   "source": [
    "## Preparation\n",
    "One time installation of required libraries from requirement.txt and creating data path"
   ]
  },
  {
   "cell_type": "code",
   "execution_count": null,
   "metadata": {},
   "outputs": [],
   "source": [
    "# !pip3 install torch\n",
    "!mkdir data"
   ]
  },
  {
   "cell_type": "markdown",
   "metadata": {},
   "source": [
    "Downloading CIFAR10"
   ]
  },
  {
   "cell_type": "code",
   "execution_count": null,
   "metadata": {},
   "outputs": [],
   "source": [
    "from dataset.dataset_dowloader_ import *\n",
    "\n",
    "cifar10_dowloader()"
   ]
  },
  {
   "cell_type": "markdown",
   "metadata": {},
   "source": [
    "Let's start!\n",
    "\n",
    "We are going to search couple of genotypes. We choose next combinations of initial hyperparams:\n",
    "\n",
    "  * `N3-E50-CS6-BS256-CT10-BT96` - classic\n",
    "     - `N3` - nodes number (4) in each cell during search\n",
    "     - `E50` - epochs number (50) for searching final genotype\n",
    "     - `CS6` - cell number (8) as a \"layer\"\n",
    "     - `BS256` - batch size (256) from CIFAR10 (training portion of data is 0.5 - 25k) during search\n",
    "     - `CT10` - nodes number (4) in each cell during eval\n",
    "     - `BT96` - batch size (256) from CIFAR10 (training portion of data is 0.5 - 25k) during eval\n",
    "     \n",
    "  * `N3-E50-CS6-BS128-CT10-BT96` - batch size (128)\n",
    "     \n",
    "  * `N3-E100-CS6-BS256-CT10-BT96` - epochs number (100)"
   ]
  },
  {
   "cell_type": "code",
   "execution_count": null,
   "metadata": {},
   "outputs": [],
   "source": [
    "!python train_search.py --data='./data' --save='N3-E50-CS6-BS256-CT10-BT96' --nodes=3 --multiplier=3 --layers=6"
   ]
  },
  {
   "cell_type": "code",
   "execution_count": null,
   "metadata": {
    "scrolled": true
   },
   "outputs": [],
   "source": [
    "!python train_search.py --data='./data' --save='N3-E50-CS6-BS128-CT10-BT96' --nodes=3 --multiplier=3 --layers=6 --batch_size=128"
   ]
  },
  {
   "cell_type": "code",
   "execution_count": null,
   "metadata": {},
   "outputs": [],
   "source": [
    "!python train_search.py --data='./data' --save='N3-E100-CS6-BS256-CT10-BT96' --nodes=3 --multiplier=3 --layers=6 --epochs=100"
   ]
  },
  {
   "cell_type": "code",
   "execution_count": null,
   "metadata": {},
   "outputs": [],
   "source": []
  },
  {
   "cell_type": "code",
   "execution_count": null,
   "metadata": {},
   "outputs": [],
   "source": []
  },
  {
   "cell_type": "code",
   "execution_count": null,
   "metadata": {
    "scrolled": true
   },
   "outputs": [],
   "source": [
    "!python train.py --auxiliary --cutout --arch='' --data='./data' --save='N4-E50-CS8-BS256'"
   ]
  },
  {
   "cell_type": "code",
   "execution_count": null,
   "metadata": {},
   "outputs": [],
   "source": [
    "!python train.py --auxiliary --cutout --arch='N4-E50-CS8-BS128-20200118-105259' --data='./data' --save='N4-E50-CS8-BS128'"
   ]
  },
  {
   "cell_type": "code",
   "execution_count": null,
   "metadata": {},
   "outputs": [],
   "source": [
    "!python train.py --auxiliary --cutout --arch='N4-E50-CS4-BS256-20200118-105518' --data='./data' --save='N4-E50-CS4-BS256'"
   ]
  },
  {
   "cell_type": "code",
   "execution_count": null,
   "metadata": {},
   "outputs": [],
   "source": [
    "!python train.py --auxiliary --cutout --arch='N4-E20-CS8-BS256-20200118-105659' --data='./data' --save='N4-E20-CS8-BS256'"
   ]
  },
  {
   "cell_type": "code",
   "execution_count": null,
   "metadata": {},
   "outputs": [],
   "source": []
  }
 ],
 "metadata": {
  "kernelspec": {
   "display_name": "Python 3",
   "language": "python",
   "name": "python3"
  },
  "language_info": {
   "codemirror_mode": {
    "name": "ipython",
    "version": 3
   },
   "file_extension": ".py",
   "mimetype": "text/x-python",
   "name": "python",
   "nbconvert_exporter": "python",
   "pygments_lexer": "ipython3",
   "version": "3.7.6"
  }
 },
 "nbformat": 4,
 "nbformat_minor": 2
}
